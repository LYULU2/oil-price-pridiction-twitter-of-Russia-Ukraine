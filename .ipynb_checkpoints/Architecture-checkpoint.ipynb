{
 "cells": [
  {
   "cell_type": "code",
   "execution_count": null,
   "metadata": {
    "colab": {
     "base_uri": "https://localhost:8080/"
    },
    "id": "jRSveATq4EDZ",
    "outputId": "5a9693a3-9495-46fd-d23f-391ce6ef1734"
   },
   "outputs": [
    {
     "name": "stdout",
     "output_type": "stream",
     "text": [
      "Found GPU at: /device:GPU:0\n"
     ]
    }
   ],
   "source": [
    "import tensorflow as tf\n",
    "device_name = tf.test.gpu_device_name()\n",
    "if device_name != '/device:GPU:0':\n",
    "  raise SystemError('GPU device not found')\n",
    "print('Found GPU at: {}'.format(device_name))"
   ]
  },
  {
   "cell_type": "code",
   "execution_count": null,
   "metadata": {
    "colab": {
     "base_uri": "https://localhost:8080/",
     "height": 35
    },
    "id": "418Yr7YpQBaT",
    "outputId": "9f8a2d67-ec89-4b9d-a598-a0c78ba651a8"
   },
   "outputs": [
    {
     "data": {
      "application/vnd.google.colaboratory.intrinsic+json": {
       "type": "string"
      },
      "text/plain": [
       "'2.8.0'"
      ]
     },
     "execution_count": 2,
     "metadata": {},
     "output_type": "execute_result"
    }
   ],
   "source": [
    "tf.__version__"
   ]
  },
  {
   "cell_type": "code",
   "execution_count": null,
   "metadata": {
    "colab": {
     "base_uri": "https://localhost:8080/"
    },
    "id": "lo41-h6d4L12",
    "outputId": "df2415b1-3bd9-46f8-d166-58801b08f451"
   },
   "outputs": [
    {
     "name": "stdout",
     "output_type": "stream",
     "text": [
      "Mounted at /content/drive\n"
     ]
    }
   ],
   "source": [
    "from google.colab import drive\n",
    "drive.mount(\"/content/drive\")"
   ]
  },
  {
   "cell_type": "code",
   "execution_count": null,
   "metadata": {
    "id": "Vtu0zpyu4NEy"
   },
   "outputs": [],
   "source": [
    "import pandas as pd\n",
    "import matplotlib.pyplot as plt\n",
    "oil = pd.read_csv('/content/drive/MyDrive/544stuff/brent-daily.csv')"
   ]
  },
  {
   "cell_type": "markdown",
   "metadata": {
    "id": "RWPUdyNhfn1L"
   },
   "source": [
    "#### **Dataframe format**\n",
    "oil: date|Price \\\n",
    "twitter: Date|source|label|commt"
   ]
  },
  {
   "cell_type": "code",
   "execution_count": null,
   "metadata": {
    "colab": {
     "base_uri": "https://localhost:8080/",
     "height": 1000
    },
    "id": "1VTfuX4F4a0u",
    "outputId": "08b27f7f-cc13-4d68-f1a2-d63d689d9848"
   },
   "outputs": [
    {
     "data": {
      "text/html": [
       "\n",
       "  <div id=\"df-26e94f75-ee69-4e9e-b932-ede9a4eacb56\">\n",
       "    <div class=\"colab-df-container\">\n",
       "      <div>\n",
       "<style scoped>\n",
       "    .dataframe tbody tr th:only-of-type {\n",
       "        vertical-align: middle;\n",
       "    }\n",
       "\n",
       "    .dataframe tbody tr th {\n",
       "        vertical-align: top;\n",
       "    }\n",
       "\n",
       "    .dataframe thead th {\n",
       "        text-align: right;\n",
       "    }\n",
       "</style>\n",
       "<table border=\"1\" class=\"dataframe\">\n",
       "  <thead>\n",
       "    <tr style=\"text-align: right;\">\n",
       "      <th></th>\n",
       "      <th>Date</th>\n",
       "      <th>Price</th>\n",
       "    </tr>\n",
       "  </thead>\n",
       "  <tbody>\n",
       "    <tr>\n",
       "      <th>0</th>\n",
       "      <td>2022-02-21</td>\n",
       "      <td>98.95</td>\n",
       "    </tr>\n",
       "    <tr>\n",
       "      <th>1</th>\n",
       "      <td>2022-02-22</td>\n",
       "      <td>98.73</td>\n",
       "    </tr>\n",
       "    <tr>\n",
       "      <th>2</th>\n",
       "      <td>2022-02-23</td>\n",
       "      <td>99.29</td>\n",
       "    </tr>\n",
       "    <tr>\n",
       "      <th>3</th>\n",
       "      <td>2022-02-24</td>\n",
       "      <td>101.29</td>\n",
       "    </tr>\n",
       "    <tr>\n",
       "      <th>4</th>\n",
       "      <td>2022-02-25</td>\n",
       "      <td>98.56</td>\n",
       "    </tr>\n",
       "    <tr>\n",
       "      <th>5</th>\n",
       "      <td>2022-02-28</td>\n",
       "      <td>103.08</td>\n",
       "    </tr>\n",
       "    <tr>\n",
       "      <th>6</th>\n",
       "      <td>2022-03-01</td>\n",
       "      <td>110.93</td>\n",
       "    </tr>\n",
       "    <tr>\n",
       "      <th>7</th>\n",
       "      <td>2022-03-02</td>\n",
       "      <td>118.94</td>\n",
       "    </tr>\n",
       "    <tr>\n",
       "      <th>8</th>\n",
       "      <td>2022-03-03</td>\n",
       "      <td>115.36</td>\n",
       "    </tr>\n",
       "    <tr>\n",
       "      <th>9</th>\n",
       "      <td>2022-03-04</td>\n",
       "      <td>123.86</td>\n",
       "    </tr>\n",
       "    <tr>\n",
       "      <th>10</th>\n",
       "      <td>2022-03-07</td>\n",
       "      <td>129.02</td>\n",
       "    </tr>\n",
       "    <tr>\n",
       "      <th>11</th>\n",
       "      <td>2022-03-08</td>\n",
       "      <td>133.18</td>\n",
       "    </tr>\n",
       "    <tr>\n",
       "      <th>12</th>\n",
       "      <td>2022-03-09</td>\n",
       "      <td>116.58</td>\n",
       "    </tr>\n",
       "    <tr>\n",
       "      <th>13</th>\n",
       "      <td>2022-03-10</td>\n",
       "      <td>114.54</td>\n",
       "    </tr>\n",
       "    <tr>\n",
       "      <th>14</th>\n",
       "      <td>2022-03-11</td>\n",
       "      <td>118.11</td>\n",
       "    </tr>\n",
       "    <tr>\n",
       "      <th>15</th>\n",
       "      <td>2022-03-14</td>\n",
       "      <td>110.39</td>\n",
       "    </tr>\n",
       "    <tr>\n",
       "      <th>16</th>\n",
       "      <td>2022-03-15</td>\n",
       "      <td>105.14</td>\n",
       "    </tr>\n",
       "    <tr>\n",
       "      <th>17</th>\n",
       "      <td>2022-03-16</td>\n",
       "      <td>104.61</td>\n",
       "    </tr>\n",
       "    <tr>\n",
       "      <th>18</th>\n",
       "      <td>2022-03-17</td>\n",
       "      <td>113.50</td>\n",
       "    </tr>\n",
       "    <tr>\n",
       "      <th>19</th>\n",
       "      <td>2022-03-18</td>\n",
       "      <td>114.32</td>\n",
       "    </tr>\n",
       "    <tr>\n",
       "      <th>20</th>\n",
       "      <td>2022-03-21</td>\n",
       "      <td>122.29</td>\n",
       "    </tr>\n",
       "    <tr>\n",
       "      <th>21</th>\n",
       "      <td>2022-03-22</td>\n",
       "      <td>121.53</td>\n",
       "    </tr>\n",
       "    <tr>\n",
       "      <th>22</th>\n",
       "      <td>2022-03-23</td>\n",
       "      <td>127.52</td>\n",
       "    </tr>\n",
       "    <tr>\n",
       "      <th>23</th>\n",
       "      <td>2022-03-24</td>\n",
       "      <td>123.98</td>\n",
       "    </tr>\n",
       "    <tr>\n",
       "      <th>24</th>\n",
       "      <td>2022-03-25</td>\n",
       "      <td>122.67</td>\n",
       "    </tr>\n",
       "    <tr>\n",
       "      <th>25</th>\n",
       "      <td>2022-03-28</td>\n",
       "      <td>114.50</td>\n",
       "    </tr>\n",
       "    <tr>\n",
       "      <th>26</th>\n",
       "      <td>2022-03-29</td>\n",
       "      <td>112.79</td>\n",
       "    </tr>\n",
       "    <tr>\n",
       "      <th>27</th>\n",
       "      <td>2022-03-30</td>\n",
       "      <td>115.59</td>\n",
       "    </tr>\n",
       "    <tr>\n",
       "      <th>28</th>\n",
       "      <td>2022-03-31</td>\n",
       "      <td>107.29</td>\n",
       "    </tr>\n",
       "    <tr>\n",
       "      <th>29</th>\n",
       "      <td>2022-04-01</td>\n",
       "      <td>106.13</td>\n",
       "    </tr>\n",
       "    <tr>\n",
       "      <th>30</th>\n",
       "      <td>2022-04-04</td>\n",
       "      <td>108.15</td>\n",
       "    </tr>\n",
       "  </tbody>\n",
       "</table>\n",
       "</div>\n",
       "      <button class=\"colab-df-convert\" onclick=\"convertToInteractive('df-26e94f75-ee69-4e9e-b932-ede9a4eacb56')\"\n",
       "              title=\"Convert this dataframe to an interactive table.\"\n",
       "              style=\"display:none;\">\n",
       "        \n",
       "  <svg xmlns=\"http://www.w3.org/2000/svg\" height=\"24px\"viewBox=\"0 0 24 24\"\n",
       "       width=\"24px\">\n",
       "    <path d=\"M0 0h24v24H0V0z\" fill=\"none\"/>\n",
       "    <path d=\"M18.56 5.44l.94 2.06.94-2.06 2.06-.94-2.06-.94-.94-2.06-.94 2.06-2.06.94zm-11 1L8.5 8.5l.94-2.06 2.06-.94-2.06-.94L8.5 2.5l-.94 2.06-2.06.94zm10 10l.94 2.06.94-2.06 2.06-.94-2.06-.94-.94-2.06-.94 2.06-2.06.94z\"/><path d=\"M17.41 7.96l-1.37-1.37c-.4-.4-.92-.59-1.43-.59-.52 0-1.04.2-1.43.59L10.3 9.45l-7.72 7.72c-.78.78-.78 2.05 0 2.83L4 21.41c.39.39.9.59 1.41.59.51 0 1.02-.2 1.41-.59l7.78-7.78 2.81-2.81c.8-.78.8-2.07 0-2.86zM5.41 20L4 18.59l7.72-7.72 1.47 1.35L5.41 20z\"/>\n",
       "  </svg>\n",
       "      </button>\n",
       "      \n",
       "  <style>\n",
       "    .colab-df-container {\n",
       "      display:flex;\n",
       "      flex-wrap:wrap;\n",
       "      gap: 12px;\n",
       "    }\n",
       "\n",
       "    .colab-df-convert {\n",
       "      background-color: #E8F0FE;\n",
       "      border: none;\n",
       "      border-radius: 50%;\n",
       "      cursor: pointer;\n",
       "      display: none;\n",
       "      fill: #1967D2;\n",
       "      height: 32px;\n",
       "      padding: 0 0 0 0;\n",
       "      width: 32px;\n",
       "    }\n",
       "\n",
       "    .colab-df-convert:hover {\n",
       "      background-color: #E2EBFA;\n",
       "      box-shadow: 0px 1px 2px rgba(60, 64, 67, 0.3), 0px 1px 3px 1px rgba(60, 64, 67, 0.15);\n",
       "      fill: #174EA6;\n",
       "    }\n",
       "\n",
       "    [theme=dark] .colab-df-convert {\n",
       "      background-color: #3B4455;\n",
       "      fill: #D2E3FC;\n",
       "    }\n",
       "\n",
       "    [theme=dark] .colab-df-convert:hover {\n",
       "      background-color: #434B5C;\n",
       "      box-shadow: 0px 1px 3px 1px rgba(0, 0, 0, 0.15);\n",
       "      filter: drop-shadow(0px 1px 2px rgba(0, 0, 0, 0.3));\n",
       "      fill: #FFFFFF;\n",
       "    }\n",
       "  </style>\n",
       "\n",
       "      <script>\n",
       "        const buttonEl =\n",
       "          document.querySelector('#df-26e94f75-ee69-4e9e-b932-ede9a4eacb56 button.colab-df-convert');\n",
       "        buttonEl.style.display =\n",
       "          google.colab.kernel.accessAllowed ? 'block' : 'none';\n",
       "\n",
       "        async function convertToInteractive(key) {\n",
       "          const element = document.querySelector('#df-26e94f75-ee69-4e9e-b932-ede9a4eacb56');\n",
       "          const dataTable =\n",
       "            await google.colab.kernel.invokeFunction('convertToInteractive',\n",
       "                                                     [key], {});\n",
       "          if (!dataTable) return;\n",
       "\n",
       "          const docLinkHtml = 'Like what you see? Visit the ' +\n",
       "            '<a target=\"_blank\" href=https://colab.research.google.com/notebooks/data_table.ipynb>data table notebook</a>'\n",
       "            + ' to learn more about interactive tables.';\n",
       "          element.innerHTML = '';\n",
       "          dataTable['output_type'] = 'display_data';\n",
       "          await google.colab.output.renderOutput(dataTable, element);\n",
       "          const docLink = document.createElement('div');\n",
       "          docLink.innerHTML = docLinkHtml;\n",
       "          element.appendChild(docLink);\n",
       "        }\n",
       "      </script>\n",
       "    </div>\n",
       "  </div>\n",
       "  "
      ],
      "text/plain": [
       "          Date   Price\n",
       "0   2022-02-21   98.95\n",
       "1   2022-02-22   98.73\n",
       "2   2022-02-23   99.29\n",
       "3   2022-02-24  101.29\n",
       "4   2022-02-25   98.56\n",
       "5   2022-02-28  103.08\n",
       "6   2022-03-01  110.93\n",
       "7   2022-03-02  118.94\n",
       "8   2022-03-03  115.36\n",
       "9   2022-03-04  123.86\n",
       "10  2022-03-07  129.02\n",
       "11  2022-03-08  133.18\n",
       "12  2022-03-09  116.58\n",
       "13  2022-03-10  114.54\n",
       "14  2022-03-11  118.11\n",
       "15  2022-03-14  110.39\n",
       "16  2022-03-15  105.14\n",
       "17  2022-03-16  104.61\n",
       "18  2022-03-17  113.50\n",
       "19  2022-03-18  114.32\n",
       "20  2022-03-21  122.29\n",
       "21  2022-03-22  121.53\n",
       "22  2022-03-23  127.52\n",
       "23  2022-03-24  123.98\n",
       "24  2022-03-25  122.67\n",
       "25  2022-03-28  114.50\n",
       "26  2022-03-29  112.79\n",
       "27  2022-03-30  115.59\n",
       "28  2022-03-31  107.29\n",
       "29  2022-04-01  106.13\n",
       "30  2022-04-04  108.15"
      ]
     },
     "execution_count": 4,
     "metadata": {},
     "output_type": "execute_result"
    }
   ],
   "source": [
    "oil.head()"
   ]
  },
  {
   "cell_type": "code",
   "execution_count": null,
   "metadata": {
    "colab": {
     "base_uri": "https://localhost:8080/",
     "height": 265
    },
    "id": "7iKC4b0V4v0V",
    "outputId": "6f711750-7fd0-4c5f-d373-565dbc26adc7"
   },
   "outputs": [
    {
     "data": {
      "image/png": "[encoded data removed]",
      "text/plain": [
       "<Figure size 432x288 with 1 Axes>"
      ]
     },
     "metadata": {
      "needs_background": "light"
     },
     "output_type": "display_data"
    }
   ],
   "source": [
    "plt.plot(oil['Date'], oil['Price'])\n",
    "plt.show()"
   ]
  },
  {
   "cell_type": "code",
   "execution_count": null,
   "metadata": {
    "id": "FDNdsVblXhqa"
   },
   "outputs": [],
   "source": [
    "TRAIN_DEV_SPLIT = 0.8\n",
    "\n",
    "df = pd.merge(twitter, oil, how='inner', on ='date')\n",
    "df.sort_values(by=['date'], inplace = True) #sort the dataframe by date\n",
    "train_set, test_set= np.split(df, [int(TRAIN_DEV_SPLIT *len(data))])"
   ]
  },
  {
   "cell_type": "markdown",
   "metadata": {
    "id": "nFKlfGrTedLR"
   },
   "source": [
    "## Data Pre-processing"
   ]
  },
  {
   "cell_type": "code",
   "execution_count": null,
   "metadata": {
    "id": "rvEnoWfqehFv"
   },
   "outputs": [],
   "source": [
    "def clean(text):\n",
    "    text = text.lower()\n",
    "    #text = re.sub(\"((\\S+)?(http(s)?)(\\S+))|((\\S+)?(www)(\\S+))|((\\S+)?(\\@)(\\S+)?)\", \"\", text)\n",
    "    text = re.sub(r'http\\S+', '', text) # remove urls\n",
    "    #text = re.sub(\"[^a-zA-Z ]\", \"\", text)\n",
    "    text = text.replace(\"Äô\",\"'\") # wrongly encoded chars we spotted while labeling\n",
    "    text = text.replace(\"‚Äú\",\"\")\n",
    "    return text"
   ]
  },
  {
   "cell_type": "markdown",
   "metadata": {
    "id": "diKpGgVdmP6y"
   },
   "source": [
    "## feature extracter\n",
    "last layer of bert-based sentiment analysis model"
   ]
  },
  {
   "cell_type": "code",
   "execution_count": null,
   "metadata": {
    "id": "8KTh3ThKcsXN"
   },
   "outputs": [],
   "source": [
    "!pip install transformers"
   ]
  },
  {
   "cell_type": "code",
   "execution_count": null,
   "metadata": {
    "id": "-YMnMsVCmV_6"
   },
   "outputs": [],
   "source": [
    "import torch\n",
    "from transformers import BertTokenizer, BertModel\n",
    "import logging\n",
    "\n",
    "import matplotlib.pyplot as plt\n",
    "% matplotlib inline\n"
   ]
  },
  {
   "cell_type": "markdown",
   "metadata": {
    "id": "gU3dvlDa-qoN"
   },
   "source": [
    "### train the sentiment classifier"
   ]
  },
  {
   "cell_type": "code",
   "execution_count": null,
   "metadata": {
    "id": "Xr6kt-1BLfNh"
   },
   "outputs": [],
   "source": [
    "max_len = []\n",
    "\n",
    "train = [clean_text(x) for x in train['pre'].values]\n",
    "\n",
    "for sent in train:\n",
    "  token_words = tokenizer.tokenize(sent)\n",
    "  max_len.append(len(token_words))\n",
    "    \n",
    "max_length = max(max_len) + 3\n",
    "\n",
    "print('Max words: ', max_length)"
   ]
  },
  {
   "cell_type": "code",
   "execution_count": null,
   "metadata": {
    "id": "6kL2-Mn3e2hR"
   },
   "outputs": [],
   "source": [
    "def prep(sents, label):\n",
    "    input_ids = []\n",
    "    attention_masks = []\n",
    "    sentence_ids = []\n",
    "    end_term = \"[SEP]\"\n",
    "    labels = np.array(label.values, dtype=int)\n",
    "\n",
    "    for sent in sents:\n",
    "\n",
    "        encoded_dict = tokenizer.encode_plus(\n",
    "            sent,\n",
    "            add_special_tokens = True, # Distinguish two sentences\n",
    "            max_length = max_length, # Padding\n",
    "            pad_to_max_length = True, # Padding\n",
    "            return_attention_mask = True, # Make attention mask\n",
    "            return_tensors = 'pt', # Return Pytorch tensors\n",
    "            )\n",
    "    \n",
    "        # Get word ID\n",
    "        input_ids.append(encoded_dict['input_ids'])\n",
    "\n",
    "        # Get attention mask\n",
    "        attention_masks.append(encoded_dict['attention_mask'])\n",
    "    \n",
    "  # Concatenate listed tensor for vertical dimmention (dim=0)\n",
    "\n",
    "    input_ids = torch.cat(input_ids, dim=0)\n",
    "    attention_masks = torch.cat(attention_masks, dim=0)\n",
    "    \n",
    "  # Cast label list to tenosor\n",
    "    labels = torch.tensor(labels)\n",
    "\n",
    "    return input_ids, attention_masks, labels"
   ]
  },
  {
   "cell_type": "code",
   "execution_count": null,
   "metadata": {
    "id": "oj9N4AtRfdxy"
   },
   "outputs": [],
   "source": [
    "# train\n",
    "train_ids, train_masks, train_labels = prep(train['text'], train[\"label\"])\n",
    "\n",
    "# evaluation\n",
    "eval_ids, eval_masks, eval_labels = prep(eval['text'], dev[\"label\"])"
   ]
  },
  {
   "cell_type": "code",
   "execution_count": null,
   "metadata": {
    "id": "-ozp3zsMgExk"
   },
   "outputs": [],
   "source": [
    "train_tensor = TensorDataset(train_ids, train_masks, train_labels)\n",
    "eval_tensor = TensorDataset(eval_ids, eval_masks, eval_labels)\n",
    "\n",
    "# Data loader\n",
    "batch_size = 16\n",
    "\n",
    "# Train data loader\n",
    "train_dataloader = DataLoader(\n",
    "            train_tensor,  \n",
    "            sampler = SequentialSampler(train_tensor), \n",
    "            batch_size = batch_size\n",
    "        )\n",
    "\n",
    "# Evaluation data loader\n",
    "validation_dataloader = DataLoader(\n",
    "            eval_tensor, \n",
    "            sampler = SequentialSampler(eval_tensor),\n",
    "            batch_size = batch_size \n",
    "        )"
   ]
  },
  {
   "cell_type": "code",
   "execution_count": null,
   "metadata": {
    "id": "jF95HyWYgMIo"
   },
   "outputs": [],
   "source": [
    "from transformers import BertForSequenceClassification, AdamW, BertConfig\n",
    "\n",
    "# Enable GPU if possible\n",
    "device = torch.device(\"cuda:0\" if torch.cuda.is_available() else \"cpu\")\n",
    "\n",
    "# Load a pre-traind BERT model\n",
    "\n",
    "model = BertForSequenceClassification.from_pretrained(\n",
    "    \"bert-base-uncased\",\n",
    "    num_labels = 3,\n",
    "    output_attentions = False,\n",
    "    output_hidden_states = True, #in order to access the hidden layer of bert\n",
    ").to(device)\n",
    "\n",
    "tokenizer = BertTokenizer.from_pretrained('bert-base-uncased')\n",
    "#model = BertModel.from_pretrained(\"bert-base-uncased\",config = config)"
   ]
  },
  {
   "cell_type": "code",
   "execution_count": null,
   "metadata": {
    "id": "BIXYw83DiWga"
   },
   "outputs": [],
   "source": [
    "import time\n",
    "import datetime\n",
    "import gc\n",
    "\n",
    "def format_time(elapsed):\n",
    "    # Round to the nearest second\n",
    "    elapsed_rounded = int(round((elapsed)))\n",
    "    \n",
    "    # Format as hh:mm:ss\n",
    "    return str(datetime.timedelta(seconds=elapsed_rounded))\n",
    "gc.collect()"
   ]
  },
  {
   "cell_type": "code",
   "execution_count": null,
   "metadata": {
    "id": "WMlJjA4CiQjN"
   },
   "outputs": [],
   "source": [
    "lr = 2e-5 # Learning rate\n",
    "optimizer = AdamW(model.parameters(), lr=lr)\n",
    "\n",
    "max_epoch = 1\n",
    "total_t0 = time.time()\n",
    "train_loss_ = []\n",
    "eval_loss_ = []\n",
    "\n",
    "seed_val = 42\n",
    "random.seed(seed_val)\n",
    "np.random.seed(seed_val)\n",
    "torch.manual_seed(seed_val)\n",
    "torch.cuda.manual_seed_all(seed_val)\n",
    "\n",
    "for epoch in range(max_epoch):\n",
    "    print('======== Epoch {:} / {:} ========'.format(epoch + 1, max_epoch))\n",
    "    # Training sequence\n",
    "    print('Training...')\n",
    "    t0 = time.time()\n",
    "    model.train()\n",
    "    train_loss = 0\n",
    "    for batch in train_dataloader:\n",
    "        b_input_ids = batch[0].to(device)\n",
    "        b_input_mask = batch[1].to(device)\n",
    "        b_labels = batch[2].to(device)\n",
    "        optimizer.zero_grad()\n",
    "        # Loss means Cross Entropy Loss\n",
    "        # Logits means values to be input to the softmax function\n",
    "        loss, logits = model(b_input_ids, \n",
    "                             token_type_ids = None, \n",
    "                             attention_mask = b_input_mask, \n",
    "                             labels = b_labels)\n",
    "        train_loss += loss.item()\n",
    "        loss.backward()\n",
    "        torch.nn.utils.clip_grad_norm_(model.parameters(), 1.0)\n",
    "        optimizer.step()\n",
    "\n",
    "    avg_train_loss = train_loss / len(train_dataloader)  \n",
    "    train_loss_.append(round(avg_train_loss, 2))\n",
    "    print('Epoch training loss: ', round(avg_train_loss, 2))\n",
    "    print('Epoch training time: ', format_time(time.time() - t0))\n",
    "    print('')\n",
    "\n",
    "    # Evaluation sequence\n",
    "    print('Evaluating...')\n",
    "    t0 = time.time()\n",
    "    model.eval()\n",
    "    val_loss = 0\n",
    "    for batch in validation_dataloader:\n",
    "        b_input_ids = batch[0].to(device)\n",
    "        b_input_mask = batch[1].to(device)\n",
    "        b_labels = batch[2].to(device)\n",
    "        with torch.no_grad(): # don't compute grading\n",
    "            (loss, logits) = model(b_input_ids, \n",
    "                                 token_type_ids = None, \n",
    "                                 attention_mask = b_input_mask,\n",
    "                                 labels = b_labels)\n",
    "        val_loss += loss.item()\n",
    "\n",
    "    avg_val_loss = val_loss / len(validation_dataloader)\n",
    "    eval_loss_.append(round(avg_val_loss, 2))\n",
    "    print('Epoch evaluation loss: ', round(avg_val_loss, 2))\n",
    "    print('Epoch evaluation time: ', format_time(time.time() - t0))\n",
    "    print('')\n",
    "\n",
    "print('Completed. Computation time: ', format_time(time.time() - total_t0))"
   ]
  },
  {
   "cell_type": "code",
   "execution_count": null,
   "metadata": {
    "id": "HFXmPQxIiQqU"
   },
   "outputs": [],
   "source": [
    "# use the trained model to extract feature\n",
    "model.eval()\n"
   ]
  },
  {
   "cell_type": "markdown",
   "metadata": {
    "id": "zP9DPxnNdteC"
   },
   "source": [
    "##  Build LSTM model"
   ]
  },
  {
   "cell_type": "markdown",
   "metadata": {
    "id": "v-9yC0vNdwKb"
   },
   "source": [
    " Specifically, we use a stacked LSTM architecture with 2\n",
    "LSTM layers. Right after the first LSTM layer, we add batch\n",
    "normalization plus ReLU before connecting with the second\n",
    "LSTM layer. Batch normalization is used since we find it to\n",
    "significantly speed up convergence. The hidden unit size for\n",
    "the first LSTM layer is 64, and that for the second LSTM layer\n",
    "is 16. The test error continues to decrease as we increase the\n",
    "LSTM sequence length all the way up to 15 (or, 3 weeks), and\n",
    "thus T = 15 is used as the sequence length for prediction.\n",
    "We set the learning rate as 0.01 and runs for 150 epochs.\n",
    "This setting is sufficient for all our tested models to converge."
   ]
  },
  {
   "cell_type": "code",
   "execution_count": null,
   "metadata": {
    "id": "z7AaEkQMnDcy"
   },
   "outputs": [],
   "source": []
  }
 ],
 "metadata": {
  "accelerator": "GPU",
  "colab": {
   "collapsed_sections": [],
   "name": "Architecture.ipynb",
   "provenance": []
  },
  "kernelspec": {
   "display_name": "Python 3",
   "language": "python",
   "name": "python3"
  },
  "language_info": {
   "codemirror_mode": {
    "name": "ipython",
    "version": 3
   },
   "file_extension": ".py",
   "mimetype": "text/x-python",
   "name": "python",
   "nbconvert_exporter": "python",
   "pygments_lexer": "ipython3",
   "version": "3.7.4"
  }
 },
 "nbformat": 4,
 "nbformat_minor": 1
}
